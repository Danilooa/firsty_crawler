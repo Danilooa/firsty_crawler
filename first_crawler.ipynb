{
 "cells": [
  {
   "cell_type": "markdown",
   "metadata": {},
   "source": [
    " # Danilo's first web crawler "
   ]
  },
  {
   "cell_type": "markdown",
   "metadata": {},
   "source": [
    "I'm taking an Udacity course on data science and have decided to challenge myself.\n",
    "I'll do that using a combination of Python 3, Anaconda and Jupyter notebooks.\n",
    "\n",
    "When finished this crawler will retrieve all web links from a given URL."
   ]
  },
  {
   "cell_type": "markdown",
   "metadata": {},
   "source": [
    "## Creating an environment with Anaconda"
   ]
  },
  {
   "cell_type": "markdown",
   "metadata": {},
   "source": [
    "$ conda create -n first_crawler python=3.6.4"
   ]
  },
  {
   "cell_type": "markdown",
   "metadata": {},
   "source": [
    "## Activating the environment"
   ]
  },
  {
   "cell_type": "markdown",
   "metadata": {},
   "source": [
    "$ conda activate first_crawler"
   ]
  },
  {
   "cell_type": "markdown",
   "metadata": {},
   "source": [
    "## Importing a package to read the content of a web page"
   ]
  },
  {
   "cell_type": "markdown",
   "metadata": {},
   "source": [
    "$ conda install urllib3"
   ]
  },
  {
   "cell_type": "markdown",
   "metadata": {},
   "source": [
    "\n",
    "## The function below will retrieve the html content of a given url"
   ]
  },
  {
   "cell_type": "code",
   "execution_count": 30,
   "metadata": {},
   "outputs": [],
   "source": [
    "import urllib.request\n",
    "\n",
    "def get_page(url):\n",
    "    if not url.startswith('@'):\n",
    "        return ''\n",
    "    if url.endswith('xml'):\n",
    "        return ''\n",
    "    page_reader = urllib.request.urlopen(url)\n",
    "    return page_reader.read().decode('utf-8')"
   ]
  },
  {
   "cell_type": "markdown",
   "metadata": {},
   "source": [
    "\n",
    "## Giving a taste of the page's content"
   ]
  },
  {
   "cell_type": "code",
   "execution_count": 3,
   "metadata": {
    "scrolled": false
   },
   "outputs": [
    {
     "name": "stdout",
     "output_type": "stream",
     "text": [
      "<!DOCTYPE html>\r\n",
      "<html lang=\"pt-BR\" prefix=\"og: http://ogp.me/ns#\">\r\n",
      "<head>\r\n",
      "\t<meta charset=\"UTF-8\">\n"
     ]
    }
   ],
   "source": [
    "html = get_page('http://www.jexperts.com.br/')\n",
    "\n",
    "html_length = len(html)\n",
    "\n",
    "html_maximun_length = (100, html_length)[html_length < 100]\n",
    "\n",
    "print(html[:html_maximun_length])"
   ]
  },
  {
   "cell_type": "markdown",
   "metadata": {},
   "source": [
    "\n",
    "## The following function will find the next quote after a given position"
   ]
  },
  {
   "cell_type": "markdown",
   "metadata": {},
   "source": [
    "### (It could be a single or double quote)"
   ]
  },
  {
   "cell_type": "code",
   "execution_count": 4,
   "metadata": {},
   "outputs": [],
   "source": [
    "def get_next_quote_index(initial_position, html_content):\n",
    "    link_single_quotes = html_content.find(\"'\", initial_position + 1)\n",
    "    link_double_quotes = html_content.find('\"', initial_position + 1)\n",
    "    return min(link_single_quotes, link_double_quotes)"
   ]
  },
  {
   "cell_type": "markdown",
   "metadata": {},
   "source": [
    "## Finally, the code above will go the entire content of the page and find all the web links' URLs"
   ]
  },
  {
   "cell_type": "code",
   "execution_count": 31,
   "metadata": {
    "scrolled": false
   },
   "outputs": [
    {
     "name": "stdout",
     "output_type": "stream",
     "text": [
      "https://fonts.googleapis.com/css?family=Roboto+Condensed:300,300i,400,400i,700,700i\n",
      "http://www.jexperts.com.br/\n",
      "//maps.google.com\n",
      "//fonts.googleapis.com\n",
      "//s.w.org\n",
      "http://www.jexperts.com.br/feed/\n",
      "http://www.jexperts.com.br/comments/feed/\n",
      "http://www.jexperts.com.br/wp-content/plugins/contact-form-7/includes/css/styles.css?ver=4.8\n",
      "http://www.jexperts.com.br/wp-content/plugins/revslider/public/assets/css/settings.css?ver=5.4.1\n",
      "http://www.jexperts.com.br/wp-content/themes/experts/style.css?ver=4.8\n",
      "http://www.jexperts.com.br/wp-content/themes/experts/css/bootstrap.min.css?ver=4.8\n",
      "http://www.jexperts.com.br/wp-content/themes/experts/css/bootstrap-select.min.css?ver=4.8\n",
      "http://www.jexperts.com.br/wp-content/themes/experts/css/jquery.bootstrap-touchspin.css?ver=4.8\n",
      "http://www.jexperts.com.br/wp-content/themes/experts/css/font-awesome.css?ver=4.8\n",
      "http://www.jexperts.com.br/wp-content/themes/experts/css/flaticon.css?ver=4.8\n",
      "http://www.jexperts.com.br/wp-content/themes/experts/css/icomoon.css?ver=4.8\n",
      "http://www.jexperts.com.br/wp-content/themes/experts/css/settings.css?ver=4.8\n",
      "http://www.jexperts.com.br/wp-content/themes/experts/css/layers.css?ver=4.8\n",
      "http://www.jexperts.com.br/wp-content/themes/experts/css/navigation.css?ver=4.8\n",
      "http://www.jexperts.com.br/wp-content/themes/experts/css/owl.carousel.css?ver=4.8\n",
      "http://www.jexperts.com.br/wp-content/themes/experts/css/jquery.bxslider.css?ver=4.8\n",
      "http://www.jexperts.com.br/wp-content/themes/experts/css/flexslider.css?ver=4.8\n",
      "http://www.jexperts.com.br/wp-content/themes/experts/css/gui.css?ver=4.8\n",
      "http://www.jexperts.com.br/wp-content/themes/experts/css/jquery.fancybox.css?ver=4.8\n",
      "http://www.jexperts.com.br/wp-content/themes/experts/css/polyglot-language-switcher.css?ver=4.8\n",
      "http://www.jexperts.com.br/wp-content/themes/experts/css/animate.min.css?ver=4.8\n",
      "http://www.jexperts.com.br/wp-content/themes/experts/css/nouislider.css?ver=4.8\n",
      "http://www.jexperts.com.br/wp-content/themes/experts/css/nouislider.pips.css?ver=4.8\n",
      "http://www.jexperts.com.br/wp-content/themes/experts/css/menuzord.css?ver=4.8\n",
      "http://www.jexperts.com.br/wp-content/themes/experts/css/magnific-popup.css?ver=4.8\n",
      "http://www.jexperts.com.br/wp-content/themes/experts/css/imagehover.min.css?ver=4.8\n",
      "http://www.jexperts.com.br/wp-content/themes/experts-child/style.css?ver=4.8\n",
      "http://www.jexperts.com.br/wp-content/themes/experts/css/custom.css?ver=4.8\n",
      "http://www.jexperts.com.br/wp-content/themes/experts/css/responsive.css?ver=4.8\n",
      "https://fonts.googleapis.com/css?family=Poppins%3A400%2C500%2C600%2C700%7CHind%3A300%2C400%2C500%2C600%2C700%7COpen%2BSans%3A300%2C400%2C600%2C700&#038;subset=latin%2Clatin-ext\n",
      "http://www.jexperts.com.br/wp-content/plugins/kingcomposer/assets/frontend/css/kingcomposer.min.css?ver=2.6.14\n",
      "http://www.jexperts.com.br/wp-content/plugins/kingcomposer/assets/css/animate.css?ver=2.6.14\n",
      "http://www.jexperts.com.br/wp-content/plugins/kingcomposer/assets/css/icons.css?ver=2.6.14\n",
      "http://www.jexperts.com.br/wp-json/\n",
      "http://www.jexperts.com.br/xmlrpc.php?rsd\n",
      "http://www.jexperts.com.br/wp-includes/wlwmanifest.xml\n"
     ]
    }
   ],
   "source": [
    "def get_all_links(urls_to_ignore, initial_position, html_content):\n",
    "\n",
    "    href_index = html.find('href', initial_position)\n",
    "    \n",
    "    if (href_index >= 0):\n",
    "        \n",
    "        link_beginning_quotes = get_next_quote_index(href_index, html_content)\n",
    "        link_end_quotes = get_next_quote_index(link_beginning_quotes, html_content)\n",
    "        found_link = html_content[link_beginning_quotes + 1:link_end_quotes]\n",
    "        \n",
    "        if found_link in urls_to_ignore:\n",
    "            return;\n",
    "        \n",
    "        if not found_link:\n",
    "            return\n",
    "        \n",
    "        new_urls_to_ignore = (found_link, *urls_to_ignore)\n",
    "        children_links = get_all_links(new_urls_to_ignore, 0, get_page(found_link))\n",
    "        not_none_children_links = children_links if children_links else ()\n",
    "        \n",
    "        next_link = get_all_links(new_urls_to_ignore, link_end_quotes, html_content)\n",
    " \n",
    "        if next_link: \n",
    "            return (found_link, *next_link, *not_none_children_links)\n",
    "        \n",
    "        return (found_link, *not_none_children_links)  \n",
    "    \n",
    "    return;\n",
    "            \n",
    "\n",
    "all_links = get_all_links((), 0, html)\n",
    "\n",
    "print('\\n'.join([str(link) for link in all_links]))\n"
   ]
  },
  {
   "cell_type": "code",
   "execution_count": null,
   "metadata": {},
   "outputs": [],
   "source": []
  }
 ],
 "metadata": {
  "kernelspec": {
   "display_name": "Python 3",
   "language": "python",
   "name": "python3"
  },
  "language_info": {
   "codemirror_mode": {
    "name": "ipython",
    "version": 3
   },
   "file_extension": ".py",
   "mimetype": "text/x-python",
   "name": "python",
   "nbconvert_exporter": "python",
   "pygments_lexer": "ipython3",
   "version": "3.6.4"
  }
 },
 "nbformat": 4,
 "nbformat_minor": 2
}
